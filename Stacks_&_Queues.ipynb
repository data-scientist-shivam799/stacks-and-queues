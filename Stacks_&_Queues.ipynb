{
  "nbformat": 4,
  "nbformat_minor": 0,
  "metadata": {
    "colab": {
      "name": "Stacks & Queues.ipynb",
      "provenance": [],
      "collapsed_sections": []
    },
    "kernelspec": {
      "name": "python3",
      "display_name": "Python 3"
    },
    "language_info": {
      "name": "python"
    }
  },
  "cells": [
    {
      "cell_type": "markdown",
      "source": [
        "# **Queues & Stacks in python**"
      ],
      "metadata": {
        "id": "sqQWIh4M2UCQ"
      }
    },
    {
      "cell_type": "markdown",
      "source": [
        "## **Creating Queues using list**\n",
        "First In First Out\n"
      ],
      "metadata": {
        "id": "MJ8RFRjQ2fdx"
      }
    },
    {
      "cell_type": "code",
      "source": [
        "# creating an empty list\n",
        "data=[]"
      ],
      "metadata": {
        "id": "xD-QnyI10jD8"
      },
      "execution_count": 1,
      "outputs": []
    },
    {
      "cell_type": "code",
      "source": [
        "# Enqueuing\n",
        "# Populating list using append method to add element \n",
        "data.append(6)\n",
        "data.append(7)\n",
        "data.append(8)\n",
        "data.append(9)\n",
        "data.append(10)"
      ],
      "metadata": {
        "id": "61uOYDvW2uzI"
      },
      "execution_count": 2,
      "outputs": []
    },
    {
      "cell_type": "code",
      "source": [
        "# Printing the enqued data \n",
        "data"
      ],
      "metadata": {
        "colab": {
          "base_uri": "https://localhost:8080/"
        },
        "id": "D7OQSr5p3O_B",
        "outputId": "5a0c2935-127d-45ff-d0dd-6c5080f4d936"
      },
      "execution_count": 3,
      "outputs": [
        {
          "output_type": "execute_result",
          "data": {
            "text/plain": [
              "[6, 7, 8, 9, 10]"
            ]
          },
          "metadata": {},
          "execution_count": 3
        }
      ]
    },
    {
      "cell_type": "code",
      "source": [
        "# Dequeuing\n",
        "# Using pop to remove first element from the list\n",
        "data.pop(0)\n",
        "data.pop(0)"
      ],
      "metadata": {
        "colab": {
          "base_uri": "https://localhost:8080/"
        },
        "id": "stvib5n93Uix",
        "outputId": "ad2d8c15-3e32-4faa-b6b8-555c617f9f5d"
      },
      "execution_count": 4,
      "outputs": [
        {
          "output_type": "execute_result",
          "data": {
            "text/plain": [
              "7"
            ]
          },
          "metadata": {},
          "execution_count": 4
        }
      ]
    },
    {
      "cell_type": "code",
      "source": [
        "# Printing the dequed data \n",
        "data"
      ],
      "metadata": {
        "colab": {
          "base_uri": "https://localhost:8080/"
        },
        "id": "npsWL-j-TdiX",
        "outputId": "b785cce0-dd52-44d8-c7b5-125f57b73712"
      },
      "execution_count": 5,
      "outputs": [
        {
          "output_type": "execute_result",
          "data": {
            "text/plain": [
              "[8, 9, 10]"
            ]
          },
          "metadata": {},
          "execution_count": 5
        }
      ]
    },
    {
      "cell_type": "markdown",
      "source": [
        "## **Creating Stack using list**\n",
        "First In Last Out"
      ],
      "metadata": {
        "id": "eGrswLGRTq4z"
      }
    },
    {
      "cell_type": "code",
      "source": [
        "# Creating an empty list\n",
        "stackData=[]"
      ],
      "metadata": {
        "id": "yuTBiuUdTjRW"
      },
      "execution_count": 6,
      "outputs": []
    },
    {
      "cell_type": "code",
      "source": [
        "# Enqueuing\n",
        "# Populating list using append method to add element \n",
        "stackData.append(1)\n",
        "stackData.append(2)\n",
        "stackData.append(3)\n",
        "stackData.append(4)\n",
        "stackData.append(5)"
      ],
      "metadata": {
        "id": "a9zuOGGsUXiB"
      },
      "execution_count": 7,
      "outputs": []
    },
    {
      "cell_type": "code",
      "source": [
        "# Printing added data\n",
        "stackData"
      ],
      "metadata": {
        "colab": {
          "base_uri": "https://localhost:8080/"
        },
        "id": "fuFF_90OU3bV",
        "outputId": "39f9b5d7-5071-4868-ef84-e79e5138903a"
      },
      "execution_count": 8,
      "outputs": [
        {
          "output_type": "execute_result",
          "data": {
            "text/plain": [
              "[1, 2, 3, 4, 5]"
            ]
          },
          "metadata": {},
          "execution_count": 8
        }
      ]
    },
    {
      "cell_type": "code",
      "source": [
        "# Using pop to remove last element from the list\n",
        "stackData.pop()\n",
        "stackData.pop()"
      ],
      "metadata": {
        "colab": {
          "base_uri": "https://localhost:8080/"
        },
        "id": "vDmURe-mU9N6",
        "outputId": "7b94e0dd-5827-4893-bb53-8ac24a05e213"
      },
      "execution_count": 9,
      "outputs": [
        {
          "output_type": "execute_result",
          "data": {
            "text/plain": [
              "4"
            ]
          },
          "metadata": {},
          "execution_count": 9
        }
      ]
    },
    {
      "cell_type": "code",
      "source": [
        "stackData"
      ],
      "metadata": {
        "colab": {
          "base_uri": "https://localhost:8080/"
        },
        "id": "kAztw_gaVDHy",
        "outputId": "6e7064b0-6f2e-4833-88c4-64b4894f4d03"
      },
      "execution_count": 10,
      "outputs": [
        {
          "output_type": "execute_result",
          "data": {
            "text/plain": [
              "[1, 2, 3]"
            ]
          },
          "metadata": {},
          "execution_count": 10
        }
      ]
    },
    {
      "cell_type": "markdown",
      "source": [
        "## **Creating Stacks & Queues With Collections**"
      ],
      "metadata": {
        "id": "5ZBU7Al0VStT"
      }
    },
    {
      "cell_type": "code",
      "source": [
        "# importing required libraries\n",
        "from collections import deque"
      ],
      "metadata": {
        "id": "cDTGydgUVFT1"
      },
      "execution_count": 11,
      "outputs": []
    },
    {
      "cell_type": "code",
      "source": [
        "dataD=deque()"
      ],
      "metadata": {
        "id": "qUVcuN6yz_h8"
      },
      "execution_count": 12,
      "outputs": []
    },
    {
      "cell_type": "code",
      "source": [
        "dataD.append(5)\n",
        "dataD.append(10)\n",
        "dataD.append(15)\n",
        "dataD.append(20)\n",
        "dataD.append(25)"
      ],
      "metadata": {
        "id": "Lr60TdZ40DD-"
      },
      "execution_count": 13,
      "outputs": []
    },
    {
      "cell_type": "code",
      "source": [
        "dataD"
      ],
      "metadata": {
        "colab": {
          "base_uri": "https://localhost:8080/"
        },
        "id": "AVmQAi050TSR",
        "outputId": "4b15eadc-6697-4b87-de1c-1b1db9fc3a06"
      },
      "execution_count": 14,
      "outputs": [
        {
          "output_type": "execute_result",
          "data": {
            "text/plain": [
              "deque([5, 10, 15, 20, 25])"
            ]
          },
          "metadata": {},
          "execution_count": 14
        }
      ]
    },
    {
      "cell_type": "code",
      "source": [
        "dataD.popleft\n",
        "dataD"
      ],
      "metadata": {
        "colab": {
          "base_uri": "https://localhost:8080/"
        },
        "id": "Uj_lXUJ50VK5",
        "outputId": "f84cc5d8-42a6-4388-fb8f-5ac1b2801d4c"
      },
      "execution_count": 15,
      "outputs": [
        {
          "output_type": "execute_result",
          "data": {
            "text/plain": [
              "deque([5, 10, 15, 20, 25])"
            ]
          },
          "metadata": {},
          "execution_count": 15
        }
      ]
    },
    {
      "cell_type": "markdown",
      "source": [
        "# **Stack Class**"
      ],
      "metadata": {
        "id": "-s-ya2eqW-7d"
      }
    },
    {
      "cell_type": "code",
      "source": [
        "# Creating stack class\n",
        "class Stack:\n",
        "    def __init__(self):\n",
        "        self.data=[]\n",
        "    def push(self,val):\n",
        "        self.data.append(val)\n",
        "    def pop(self):\n",
        "        self.data.pop()\n",
        "    def peek(self):\n",
        "        return self.data[len(self.data)-1]\n",
        "    def view(self):\n",
        "        return self.data"
      ],
      "metadata": {
        "id": "6Y3vxZ7iWorM"
      },
      "execution_count": 16,
      "outputs": []
    },
    {
      "cell_type": "code",
      "source": [
        "# Initializing stack class\n",
        "stack=Stack()"
      ],
      "metadata": {
        "id": "IfKTg6jqXe_5"
      },
      "execution_count": 17,
      "outputs": []
    },
    {
      "cell_type": "code",
      "source": [
        "# Performing operations on custom defined methods\n",
        "# adding elements to the list\n",
        "stack.push(4)\n",
        "stack.push(14)\n",
        "stack.push(24)\n",
        "stack.push(34)"
      ],
      "metadata": {
        "id": "mqHSw-HjXjAs"
      },
      "execution_count": 18,
      "outputs": []
    },
    {
      "cell_type": "code",
      "source": [
        "# Viewing elements of the list\n",
        "stack.view()"
      ],
      "metadata": {
        "colab": {
          "base_uri": "https://localhost:8080/"
        },
        "id": "HeJObWPkX4lt",
        "outputId": "44571190-0361-411f-86f4-8b55e6858621"
      },
      "execution_count": 19,
      "outputs": [
        {
          "output_type": "execute_result",
          "data": {
            "text/plain": [
              "[4, 14, 24, 34]"
            ]
          },
          "metadata": {},
          "execution_count": 19
        }
      ]
    },
    {
      "cell_type": "code",
      "source": [
        "# Viewing which element is going to be removed next\n",
        "stack.peek()"
      ],
      "metadata": {
        "colab": {
          "base_uri": "https://localhost:8080/"
        },
        "id": "DsElE3xoYdO-",
        "outputId": "e8e361f5-e8ec-465c-b152-e57f7691e162"
      },
      "execution_count": 20,
      "outputs": [
        {
          "output_type": "execute_result",
          "data": {
            "text/plain": [
              "34"
            ]
          },
          "metadata": {},
          "execution_count": 20
        }
      ]
    },
    {
      "cell_type": "code",
      "source": [
        "# Popping last two element from the list\n",
        "stack.pop()\n",
        "stack.pop()"
      ],
      "metadata": {
        "id": "Jc8362TTYFbn"
      },
      "execution_count": 21,
      "outputs": []
    },
    {
      "cell_type": "code",
      "source": [
        "# Viewing elements of the list\n",
        "stack.view()"
      ],
      "metadata": {
        "colab": {
          "base_uri": "https://localhost:8080/"
        },
        "id": "kugF-bpgYVa6",
        "outputId": "c693c702-5b02-4cf9-d1cc-4cece076d621"
      },
      "execution_count": 22,
      "outputs": [
        {
          "output_type": "execute_result",
          "data": {
            "text/plain": [
              "[4, 14]"
            ]
          },
          "metadata": {},
          "execution_count": 22
        }
      ]
    },
    {
      "cell_type": "markdown",
      "source": [
        "# **Queue Class**"
      ],
      "metadata": {
        "id": "Bkh0zPuCYnvU"
      }
    },
    {
      "cell_type": "code",
      "source": [
        "# Creating queue class\n",
        "class Queue:\n",
        "    def __init__(self):\n",
        "        self.data=[]\n",
        "    def push(self,val):\n",
        "        self.data.append(val)\n",
        "    def pop(self):\n",
        "        self.data.pop(0)\n",
        "    def peek(self):\n",
        "        return self.data[0]\n",
        "    def view(self):\n",
        "        return self.data"
      ],
      "metadata": {
        "id": "4uy8EzEkYXsP"
      },
      "execution_count": 23,
      "outputs": []
    },
    {
      "cell_type": "code",
      "source": [
        "# Initializing stack class\n",
        "queue=Queue()"
      ],
      "metadata": {
        "id": "ISfP37ImY7px"
      },
      "execution_count": 24,
      "outputs": []
    },
    {
      "cell_type": "code",
      "source": [
        "# Performing operations on custom defined methods\n",
        "# adding elements to the list\n",
        "queue.push(4)\n",
        "queue.push(14)\n",
        "queue.push(24)\n",
        "queue.push(34)"
      ],
      "metadata": {
        "id": "qhAPyiTfY8DC"
      },
      "execution_count": 25,
      "outputs": []
    },
    {
      "cell_type": "code",
      "source": [
        "# Viewing elements of the list\n",
        "queue.view()"
      ],
      "metadata": {
        "colab": {
          "base_uri": "https://localhost:8080/"
        },
        "id": "510KUcyzZEiO",
        "outputId": "389ec5fc-83d9-41e0-fe3f-8d12fb306174"
      },
      "execution_count": 26,
      "outputs": [
        {
          "output_type": "execute_result",
          "data": {
            "text/plain": [
              "[4, 14, 24, 34]"
            ]
          },
          "metadata": {},
          "execution_count": 26
        }
      ]
    },
    {
      "cell_type": "code",
      "source": [
        "# Viewing which element is going to be removed next\n",
        "queue.peek()"
      ],
      "metadata": {
        "colab": {
          "base_uri": "https://localhost:8080/"
        },
        "id": "AXdBsL5UZI_5",
        "outputId": "32713153-f009-408e-b2f8-d1d352eb253f"
      },
      "execution_count": 27,
      "outputs": [
        {
          "output_type": "execute_result",
          "data": {
            "text/plain": [
              "4"
            ]
          },
          "metadata": {},
          "execution_count": 27
        }
      ]
    },
    {
      "cell_type": "code",
      "source": [
        "# Popping first two element from the list\n",
        "queue.pop()\n",
        "queue.pop()"
      ],
      "metadata": {
        "id": "gWOeyoSPZNSt"
      },
      "execution_count": 28,
      "outputs": []
    },
    {
      "cell_type": "code",
      "source": [
        "# Viewing elements of the list\n",
        "queue.view()"
      ],
      "metadata": {
        "colab": {
          "base_uri": "https://localhost:8080/"
        },
        "id": "JTRSJytMZU52",
        "outputId": "b28c7583-0594-4935-d52c-e5be20c60325"
      },
      "execution_count": 29,
      "outputs": [
        {
          "output_type": "execute_result",
          "data": {
            "text/plain": [
              "[24, 34]"
            ]
          },
          "metadata": {},
          "execution_count": 29
        }
      ]
    }
  ]
}