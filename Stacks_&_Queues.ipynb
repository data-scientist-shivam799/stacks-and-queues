{
  "nbformat": 4,
  "nbformat_minor": 0,
  "metadata": {
    "colab": {
      "name": "Stacks & Queues.ipynb",
      "provenance": [],
      "collapsed_sections": []
    },
    "kernelspec": {
      "name": "python3",
      "display_name": "Python 3"
    },
    "language_info": {
      "name": "python"
    }
  },
  "cells": [
    {
      "cell_type": "markdown",
      "source": [
        "# **Queues & Stacks in python**"
      ],
      "metadata": {
        "id": "sqQWIh4M2UCQ"
      }
    },
    {
      "cell_type": "markdown",
      "source": [
        "## **Creating Queues using list**\n",
        "First In First Out\n"
      ],
      "metadata": {
        "id": "MJ8RFRjQ2fdx"
      }
    },
    {
      "cell_type": "code",
      "source": [
        "# creating an empty list\n",
        "data=[]"
      ],
      "metadata": {
        "id": "xD-QnyI10jD8"
      },
      "execution_count": 1,
      "outputs": []
    },
    {
      "cell_type": "code",
      "source": [
        "# Enqueuing\n",
        "# Populating list using append method to add element \n",
        "data.append(6)\n",
        "data.append(7)\n",
        "data.append(8)\n",
        "data.append(9)\n",
        "data.append(10)"
      ],
      "metadata": {
        "id": "61uOYDvW2uzI"
      },
      "execution_count": 2,
      "outputs": []
    },
    {
      "cell_type": "code",
      "source": [
        "# Printing the enqued data \n",
        "data"
      ],
      "metadata": {
        "colab": {
          "base_uri": "https://localhost:8080/"
        },
        "id": "D7OQSr5p3O_B",
        "outputId": "7f259229-cabe-468c-9fd2-37e6963fb9f3"
      },
      "execution_count": 3,
      "outputs": [
        {
          "output_type": "execute_result",
          "data": {
            "text/plain": [
              "[6, 7, 8, 9, 10]"
            ]
          },
          "metadata": {},
          "execution_count": 3
        }
      ]
    },
    {
      "cell_type": "code",
      "source": [
        "# Dequeuing\n",
        "# Using pop to remove first element from the list\n",
        "data.pop(0)\n",
        "data.pop(0)"
      ],
      "metadata": {
        "colab": {
          "base_uri": "https://localhost:8080/"
        },
        "id": "stvib5n93Uix",
        "outputId": "92a79f7e-0500-4f09-c9f7-be8b3a23ec43"
      },
      "execution_count": 4,
      "outputs": [
        {
          "output_type": "execute_result",
          "data": {
            "text/plain": [
              "7"
            ]
          },
          "metadata": {},
          "execution_count": 4
        }
      ]
    },
    {
      "cell_type": "code",
      "source": [
        "# Printing the dequed data \n",
        "data"
      ],
      "metadata": {
        "colab": {
          "base_uri": "https://localhost:8080/"
        },
        "id": "npsWL-j-TdiX",
        "outputId": "e2c77685-8b32-48e6-f3f5-fa7b83b28b5a"
      },
      "execution_count": 5,
      "outputs": [
        {
          "output_type": "execute_result",
          "data": {
            "text/plain": [
              "[8, 9, 10]"
            ]
          },
          "metadata": {},
          "execution_count": 5
        }
      ]
    },
    {
      "cell_type": "markdown",
      "source": [
        "## **Creating Stack using list**\n",
        "First In Last Out"
      ],
      "metadata": {
        "id": "eGrswLGRTq4z"
      }
    },
    {
      "cell_type": "code",
      "source": [
        "# Creating an empty list\n",
        "stackData=[]"
      ],
      "metadata": {
        "id": "yuTBiuUdTjRW"
      },
      "execution_count": 6,
      "outputs": []
    },
    {
      "cell_type": "code",
      "source": [
        "# Enqueuing\n",
        "# Populating list using append method to add element \n",
        "stackData.append(1)\n",
        "stackData.append(2)\n",
        "stackData.append(3)\n",
        "stackData.append(4)\n",
        "stackData.append(5)"
      ],
      "metadata": {
        "id": "a9zuOGGsUXiB"
      },
      "execution_count": 7,
      "outputs": []
    },
    {
      "cell_type": "code",
      "source": [
        "# Printing added data\n",
        "stackData"
      ],
      "metadata": {
        "colab": {
          "base_uri": "https://localhost:8080/"
        },
        "id": "fuFF_90OU3bV",
        "outputId": "6f575f67-fdc2-40e5-e694-b37d38f08ac2"
      },
      "execution_count": 8,
      "outputs": [
        {
          "output_type": "execute_result",
          "data": {
            "text/plain": [
              "[1, 2, 3, 4, 5]"
            ]
          },
          "metadata": {},
          "execution_count": 8
        }
      ]
    },
    {
      "cell_type": "code",
      "source": [
        "# Using pop to remove last element from the list\n",
        "stackData.pop()\n",
        "stackData.pop()"
      ],
      "metadata": {
        "colab": {
          "base_uri": "https://localhost:8080/"
        },
        "id": "vDmURe-mU9N6",
        "outputId": "9440abbf-9c61-4dcf-b6fa-37f829832bd3"
      },
      "execution_count": 9,
      "outputs": [
        {
          "output_type": "execute_result",
          "data": {
            "text/plain": [
              "4"
            ]
          },
          "metadata": {},
          "execution_count": 9
        }
      ]
    },
    {
      "cell_type": "code",
      "source": [
        "stackData"
      ],
      "metadata": {
        "colab": {
          "base_uri": "https://localhost:8080/"
        },
        "id": "kAztw_gaVDHy",
        "outputId": "72d6feae-8ee5-4129-d238-a0a2821af735"
      },
      "execution_count": 10,
      "outputs": [
        {
          "output_type": "execute_result",
          "data": {
            "text/plain": [
              "[1, 2, 3]"
            ]
          },
          "metadata": {},
          "execution_count": 10
        }
      ]
    },
    {
      "cell_type": "markdown",
      "source": [
        "## **Creating Stacks & Queues With Collections**"
      ],
      "metadata": {
        "id": "5ZBU7Al0VStT"
      }
    },
    {
      "cell_type": "code",
      "source": [
        "# importing required libraries\n",
        "from collections import deque"
      ],
      "metadata": {
        "id": "cDTGydgUVFT1"
      },
      "execution_count": 11,
      "outputs": []
    },
    {
      "cell_type": "code",
      "source": [
        "dataD=deque()"
      ],
      "metadata": {
        "id": "qUVcuN6yz_h8"
      },
      "execution_count": 12,
      "outputs": []
    },
    {
      "cell_type": "code",
      "source": [
        "dataD.append(5)\n",
        "dataD.append(10)\n",
        "dataD.append(15)\n",
        "dataD.append(20)\n",
        "dataD.append(25)"
      ],
      "metadata": {
        "id": "Lr60TdZ40DD-"
      },
      "execution_count": 13,
      "outputs": []
    },
    {
      "cell_type": "code",
      "source": [
        "dataD"
      ],
      "metadata": {
        "colab": {
          "base_uri": "https://localhost:8080/"
        },
        "id": "AVmQAi050TSR",
        "outputId": "bb0220f9-7c38-4b49-c655-dbc9c225c29a"
      },
      "execution_count": 14,
      "outputs": [
        {
          "output_type": "execute_result",
          "data": {
            "text/plain": [
              "deque([5, 10, 15, 20, 25])"
            ]
          },
          "metadata": {},
          "execution_count": 14
        }
      ]
    },
    {
      "cell_type": "code",
      "source": [
        "dataD.popleft()\n",
        "dataD"
      ],
      "metadata": {
        "colab": {
          "base_uri": "https://localhost:8080/"
        },
        "id": "Uj_lXUJ50VK5",
        "outputId": "39018510-73e9-43df-9e6e-f27604f85aaf"
      },
      "execution_count": 15,
      "outputs": [
        {
          "output_type": "execute_result",
          "data": {
            "text/plain": [
              "deque([10, 15, 20, 25])"
            ]
          },
          "metadata": {},
          "execution_count": 15
        }
      ]
    },
    {
      "cell_type": "markdown",
      "source": [
        "# **Stack Class**"
      ],
      "metadata": {
        "id": "-s-ya2eqW-7d"
      }
    },
    {
      "cell_type": "code",
      "source": [
        "# Creating stack class\n",
        "class Stack:\n",
        "    def __init__(self):\n",
        "        self.data=[]\n",
        "    def push(self,val):\n",
        "        self.data.append(val)\n",
        "    def pop(self):\n",
        "        self.data.pop()\n",
        "    def peek(self):\n",
        "        return self.data[len(self.data)-1]\n",
        "    def view(self):\n",
        "        return self.data"
      ],
      "metadata": {
        "id": "6Y3vxZ7iWorM"
      },
      "execution_count": 16,
      "outputs": []
    },
    {
      "cell_type": "code",
      "source": [
        "# Initializing stack class\n",
        "stack=Stack()"
      ],
      "metadata": {
        "id": "IfKTg6jqXe_5"
      },
      "execution_count": 17,
      "outputs": []
    },
    {
      "cell_type": "code",
      "source": [
        "# Performing operations on custom defined methods\n",
        "# adding elements to the list\n",
        "stack.push(4)\n",
        "stack.push(14)\n",
        "stack.push(24)\n",
        "stack.push(34)"
      ],
      "metadata": {
        "id": "mqHSw-HjXjAs"
      },
      "execution_count": 18,
      "outputs": []
    },
    {
      "cell_type": "code",
      "source": [
        "# Viewing elements of the list\n",
        "stack.view()"
      ],
      "metadata": {
        "colab": {
          "base_uri": "https://localhost:8080/"
        },
        "id": "HeJObWPkX4lt",
        "outputId": "e85cc4ec-e354-4683-bcda-c1609c3284e1"
      },
      "execution_count": 19,
      "outputs": [
        {
          "output_type": "execute_result",
          "data": {
            "text/plain": [
              "[4, 14, 24, 34]"
            ]
          },
          "metadata": {},
          "execution_count": 19
        }
      ]
    },
    {
      "cell_type": "code",
      "source": [
        "# Viewing which element is going to be removed next\n",
        "stack.peek()"
      ],
      "metadata": {
        "colab": {
          "base_uri": "https://localhost:8080/"
        },
        "id": "DsElE3xoYdO-",
        "outputId": "ccd66b02-973c-4322-e842-bfbe2e838faf"
      },
      "execution_count": 20,
      "outputs": [
        {
          "output_type": "execute_result",
          "data": {
            "text/plain": [
              "34"
            ]
          },
          "metadata": {},
          "execution_count": 20
        }
      ]
    },
    {
      "cell_type": "code",
      "source": [
        "# Popping last two element from the list\n",
        "stack.pop()\n",
        "stack.pop()"
      ],
      "metadata": {
        "id": "Jc8362TTYFbn"
      },
      "execution_count": 21,
      "outputs": []
    },
    {
      "cell_type": "code",
      "source": [
        "# Viewing elements of the list\n",
        "stack.view()"
      ],
      "metadata": {
        "colab": {
          "base_uri": "https://localhost:8080/"
        },
        "id": "kugF-bpgYVa6",
        "outputId": "b3cce419-7dab-401c-95cf-b10a1cd44d42"
      },
      "execution_count": 22,
      "outputs": [
        {
          "output_type": "execute_result",
          "data": {
            "text/plain": [
              "[4, 14]"
            ]
          },
          "metadata": {},
          "execution_count": 22
        }
      ]
    },
    {
      "cell_type": "markdown",
      "source": [
        "# **Queue Class**"
      ],
      "metadata": {
        "id": "Bkh0zPuCYnvU"
      }
    },
    {
      "cell_type": "code",
      "source": [
        "# Creating queue class\n",
        "class Queue:\n",
        "    def __init__(self):\n",
        "        self.data=[]\n",
        "    def push(self,val):\n",
        "        self.data.append(val)\n",
        "    def pop(self):\n",
        "        self.data.pop(0)\n",
        "    def peek(self):\n",
        "        return self.data[0]\n",
        "    def view(self):\n",
        "        return self.data"
      ],
      "metadata": {
        "id": "4uy8EzEkYXsP"
      },
      "execution_count": 23,
      "outputs": []
    },
    {
      "cell_type": "code",
      "source": [
        "# Initializing stack class\n",
        "queue=Queue()"
      ],
      "metadata": {
        "id": "ISfP37ImY7px"
      },
      "execution_count": 24,
      "outputs": []
    },
    {
      "cell_type": "code",
      "source": [
        "# Performing operations on custom defined methods\n",
        "# adding elements to the list\n",
        "queue.push(4)\n",
        "queue.push(14)\n",
        "queue.push(24)\n",
        "queue.push(34)"
      ],
      "metadata": {
        "id": "qhAPyiTfY8DC"
      },
      "execution_count": 25,
      "outputs": []
    },
    {
      "cell_type": "code",
      "source": [
        "# Viewing elements of the list\n",
        "queue.view()"
      ],
      "metadata": {
        "colab": {
          "base_uri": "https://localhost:8080/"
        },
        "id": "510KUcyzZEiO",
        "outputId": "dd980a86-17ff-4978-fb56-2ef5554b0e04"
      },
      "execution_count": 26,
      "outputs": [
        {
          "output_type": "execute_result",
          "data": {
            "text/plain": [
              "[4, 14, 24, 34]"
            ]
          },
          "metadata": {},
          "execution_count": 26
        }
      ]
    },
    {
      "cell_type": "code",
      "source": [
        "# Viewing which element is going to be removed next\n",
        "queue.peek()"
      ],
      "metadata": {
        "colab": {
          "base_uri": "https://localhost:8080/"
        },
        "id": "AXdBsL5UZI_5",
        "outputId": "184b1a7c-3a3f-4ba2-fe51-4197c655eb34"
      },
      "execution_count": 27,
      "outputs": [
        {
          "output_type": "execute_result",
          "data": {
            "text/plain": [
              "4"
            ]
          },
          "metadata": {},
          "execution_count": 27
        }
      ]
    },
    {
      "cell_type": "code",
      "source": [
        "# Popping first two element from the list\n",
        "queue.pop()\n",
        "queue.pop()"
      ],
      "metadata": {
        "id": "gWOeyoSPZNSt"
      },
      "execution_count": 28,
      "outputs": []
    },
    {
      "cell_type": "code",
      "source": [
        "# Viewing elements of the list\n",
        "queue.view()"
      ],
      "metadata": {
        "colab": {
          "base_uri": "https://localhost:8080/"
        },
        "id": "JTRSJytMZU52",
        "outputId": "b533bad3-9a89-4f43-f72e-0b08e1a42e20"
      },
      "execution_count": 29,
      "outputs": [
        {
          "output_type": "execute_result",
          "data": {
            "text/plain": [
              "[24, 34]"
            ]
          },
          "metadata": {},
          "execution_count": 29
        }
      ]
    }
  ]
}